{
 "cells": [
  {
   "cell_type": "code",
   "execution_count": null,
   "id": "3fdf3c60-5538-48a8-a4e4-7cd8c0d79726",
   "metadata": {},
   "outputs": [],
   "source": [
    "''' Q1=A for loop is typically used when you know how many times you want to iterate over a block of code.\n",
    "A while loop, on the other hand, \n",
    "is typically used when you want to iterate over a block of code until a certain condition is met'''\n",
    "\n",
    "for i in range(10):\n",
    "    print(i)\n",
    "    "
   ]
  },
  {
   "cell_type": "code",
   "execution_count": null,
   "id": "2fdecfee-fecf-4b72-8fc3-ce126b2e95f7",
   "metadata": {},
   "outputs": [],
   "source": [
    "num=0\n",
    "while num < 10:\n",
    "    print(num)\n",
    "    num += 1"
   ]
  },
  {
   "cell_type": "code",
   "execution_count": null,
   "id": "9f909a94-3345-4675-98a8-f238079cd494",
   "metadata": {},
   "outputs": [],
   "source": [
    "#Q2\n",
    "num=0\n",
    "for i in range(0,11):\n",
    "    print(i)"
   ]
  },
  {
   "cell_type": "code",
   "execution_count": null,
   "id": "214168bf-245f-46fb-8120-b9a09cc70944",
   "metadata": {},
   "outputs": [],
   "source": [
    "i = 1\n",
    "sum = 0\n",
    "while i <= 10:\n",
    "    sum += i\n",
    "    i += 1"
   ]
  },
  {
   "cell_type": "code",
   "execution_count": null,
   "id": "ce522adf-d451-41f0-ad45-e4adf5403f21",
   "metadata": {},
   "outputs": [],
   "source": [
    "#Q3=\n",
    "units_consumed = int(input(\"Enter the number of units consumed: \"))\n",
    "bill_amount = 0\n",
    "units_counter = 0\n",
    "if units_consumed <= 100:\n",
    "    bill_amount = units_consumed * 4.5\n",
    "elif units_consumed <= 200:\n",
    "    units_counter = units_consumed - 100\n",
    "    bill_amount = (100 * 4.5) + (units_counter * 6)\n",
    "elif units_consumed <= 300:\n",
    "    units_counter = units_consumed - 200\n",
    "    bill_amount = (100 * 4.5) + (100 * 6) + (units_counter * 10)\n",
    "else:\n",
    "    units_counter = units_consumed - 300\n",
    "    bill_amount = (100 * 4.5) + (100 * 6) + (100 * 10) + (units_counter * 20)"
   ]
  },
  {
   "cell_type": "code",
   "execution_count": 4,
   "id": "ab400a0d-2d54-4775-91f2-6c6292650ece",
   "metadata": {},
   "outputs": [],
   "source": [
    "#Q4=\n",
    "result_list=[]\n",
    "for num in range(1, 101):\n",
    "    cube = num ** 3\n",
    "    if cube % 4 == 0 or cube % 5 == 0:\n",
    "        result_list.append(num)\n",
    "\n"
   ]
  },
  {
   "cell_type": "code",
   "execution_count": null,
   "id": "43088280-c664-409f-a48e-685799b445af",
   "metadata": {},
   "outputs": [],
   "source": [
    "num = 1\n",
    "while num <= 100:\n",
    "    cube = num ** 3\n",
    "    if cube % 4 == 0 or cube % 5 == 0:\n",
    "        result_list.append(num)\n",
    "    num += 1"
   ]
  },
  {
   "cell_type": "code",
   "execution_count": null,
   "id": "3df28eee-7614-4640-80ff-5b7546060c4c",
   "metadata": {},
   "outputs": [],
   "source": [
    "#Q5=\n"
   ]
  }
 ],
 "metadata": {
  "kernelspec": {
   "display_name": "Python 3 (ipykernel)",
   "language": "python",
   "name": "python3"
  },
  "language_info": {
   "codemirror_mode": {
    "name": "ipython",
    "version": 3
   },
   "file_extension": ".py",
   "mimetype": "text/x-python",
   "name": "python",
   "nbconvert_exporter": "python",
   "pygments_lexer": "ipython3",
   "version": "3.10.8"
  }
 },
 "nbformat": 4,
 "nbformat_minor": 5
}
